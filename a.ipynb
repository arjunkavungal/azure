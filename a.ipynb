{
  "cells": [
    {
      "cell_type": "code",
      "source": [
        "import pandas as pd"
      ],
      "outputs": [],
      "execution_count": 1,
      "metadata": {
        "gather": {
          "logged": 1680116164407
        }
      }
    },
    {
      "cell_type": "code",
      "source": [
        "df = pd.read_csv('https://raw.githubusercontent.com/lrjoshi/webpage/master/public/post/c159s.csv')"
      ],
      "outputs": [],
      "execution_count": 4,
      "metadata": {
        "jupyter": {
          "source_hidden": false,
          "outputs_hidden": false
        },
        "nteract": {
          "transient": {
            "deleting": false
          }
        },
        "gather": {
          "logged": 1680116267186
        }
      }
    },
    {
      "cell_type": "code",
      "source": [
        "from sklearn.cluster import KMeans\n",
        "X = df[['MOI','hpi','Titer']]\n",
        "kmeans = KMeans(n_clusters=2, random_state=0, n_init=\"auto\").fit(X)"
      ],
      "outputs": [],
      "execution_count": 5,
      "metadata": {
        "jupyter": {
          "source_hidden": false,
          "outputs_hidden": false
        },
        "nteract": {
          "transient": {
            "deleting": false
          }
        },
        "gather": {
          "logged": 1680116269203
        }
      }
    },
    {
      "cell_type": "code",
      "source": [
        "from azureml.core import Workspace\n",
        "ws = Workspace.create(name='sample',\n",
        "               subscription_id='c184dd04-50d4-451b-a13b-f9e6da74d3bb',\n",
        "               resource_group='sample_group',\n",
        "               create_resource_group=True,\n",
        "               location='East US 2'\n",
        "               )"
      ],
      "outputs": [
        {
          "output_type": "stream",
          "name": "stderr",
          "text": "UserWarning: The resource group doesn't exist or was not provided. AzureML SDK is creating a resource group=sample_group in location=eastus2 using subscription=c184dd04-50d4-451b-a13b-f9e6da74d3bb.\n"
        },
        {
          "output_type": "stream",
          "name": "stdout",
          "text": "Deploying StorageAccount with name samplestoragec8f2e765830.\nDeploying KeyVault with name samplekeyvault09b0c324fb.\nDeploying AppInsights with name sampleinsightsef3e7343e8.\nDeployed AppInsights with name sampleinsightsef3e7343e8. Took 1.59 seconds.\nDeployed StorageAccount with name samplestoragec8f2e765830. Took 19.44 seconds.\nDeployed KeyVault with name samplekeyvault09b0c324fb. Took 17.14 seconds.\nDeploying Workspace with name sample.\nDeployed Workspace with name sample. Took 17.63 seconds.\n"
        }
      ],
      "execution_count": 8,
      "metadata": {
        "jupyter": {
          "source_hidden": false,
          "outputs_hidden": false
        },
        "nteract": {
          "transient": {
            "deleting": false
          }
        },
        "gather": {
          "logged": 1680116481180
        }
      }
    },
    {
      "cell_type": "code",
      "source": [
        "import joblib\n",
        "\n",
        "\n",
        "filename = 'sal_model.pkl'\n",
        "joblib.dump(kmeans, filename)"
      ],
      "outputs": [
        {
          "output_type": "execute_result",
          "execution_count": 11,
          "data": {
            "text/plain": "['sal_model.pkl']"
          },
          "metadata": {}
        }
      ],
      "execution_count": 11,
      "metadata": {
        "jupyter": {
          "source_hidden": false,
          "outputs_hidden": false
        },
        "nteract": {
          "transient": {
            "deleting": false
          }
        },
        "gather": {
          "logged": 1680116693547
        }
      }
    },
    {
      "cell_type": "code",
      "source": [
        "import azureml.core\n",
        "from azureml.core import Workspace\n",
        "from azureml.core.model import Model\n",
        "from azureml.core import Experiment\n",
        "from azureml.core.webservice import Webservice\n",
        "from azureml.core.image import ContainerImage\n",
        "from azureml.core.webservice import AciWebservice\n",
        "from azureml.core.conda_dependencies import CondaDependencies\n",
        "model = Model.register(model_path = \"sal_model.pkl\",\n",
        "                       model_name = \"sal_model\",\n",
        "                       tags = {\"key\": \"1\"},\n",
        "                       description = \"Salary Prediction\",\n",
        "                       workspace = ws)"
      ],
      "outputs": [
        {
          "output_type": "stream",
          "name": "stdout",
          "text": "Registering model sal_model\n"
        }
      ],
      "execution_count": 15,
      "metadata": {
        "jupyter": {
          "source_hidden": false,
          "outputs_hidden": false
        },
        "nteract": {
          "transient": {
            "deleting": false
          }
        },
        "gather": {
          "logged": 1680116957246
        }
      }
    }
  ],
  "metadata": {
    "kernelspec": {
      "display_name": "Python 3.10 - SDK v2",
      "language": "python",
      "name": "python310-sdkv2"
    },
    "language_info": {
      "codemirror_mode": {
        "name": "ipython",
        "version": 3
      },
      "file_extension": ".py",
      "mimetype": "text/x-python",
      "name": "python",
      "nbconvert_exporter": "python",
      "pygments_lexer": "ipython3",
      "version": "3.10.6"
    },
    "microsoft": {
      "ms_spell_check": {
        "ms_spell_check_language": "en"
      },
      "host": {
        "AzureML": {
          "notebookHasBeenCompleted": true
        }
      }
    },
    "nteract": {
      "version": "nteract-front-end@1.0.0"
    }
  },
  "nbformat": 4,
  "nbformat_minor": 2
}